{
  "nbformat": 4,
  "nbformat_minor": 0,
  "metadata": {
    "colab": {
      "name": "Stock_Prediction.ipynb",
      "provenance": [],
      "collapsed_sections": []
    },
    "kernelspec": {
      "name": "python3",
      "display_name": "Python 3"
    },
    "language_info": {
      "name": "python"
    }
  },
  "cells": [
    {
      "cell_type": "code",
      "execution_count": 1,
      "metadata": {
        "id": "65NYFORTkbuj"
      },
      "outputs": [],
      "source": [
        "import numpy as np\n",
        "import requests\n",
        "import pandas as pd\n",
        "import matplotlib.pyplot as plt\n",
        "import tensorflow as tf\n",
        "from sklearn.preprocessing import MinMaxScaler"
      ]
    },
    {
      "cell_type": "code",
      "source": [
        "# A method to extract a and y values of any stock from the Alpha Vantage API\n",
        "def extract_x_y(ticker):\n",
        "    url = \"https://www.alphavantage.co/query?function=TIME_SERIES_DAILY&symbol=\" + ticker + \"&outputsize=full&apikey=RY9JPRE2OAC80KJL\"\n",
        "    r = requests.get(url)\n",
        "    data = r.json()\n",
        "\n",
        "    df = pd.DataFrame()\n",
        "\n",
        "    for i in data['Time Series (Daily)'].keys():\n",
        "      row = {'Date': i, \n",
        "             'Open': data['Time Series (Daily)'][i]['1. open'], \n",
        "             'High': data['Time Series (Daily)'][i]['2. high'], \n",
        "             'Low': data['Time Series (Daily)'][i]['3. low'], \n",
        "             'Close': data['Time Series (Daily)'][i]['4. close'], \n",
        "             'Volume': data['Time Series (Daily)'][i]['5. volume']}\n",
        "\n",
        "      df = df.append(row, ignore_index=True)\n",
        "    \n",
        "    df.sort_values(by=['Date'])\n",
        "    df['Date'] = pd.to_datetime(df.Date)\n",
        "\n",
        "    return df"
      ],
      "metadata": {
        "id": "LMRJvEXxknGw"
      },
      "execution_count": 2,
      "outputs": []
    },
    {
      "cell_type": "code",
      "source": [
        "# Processing the values returned from the API Call\n",
        "stock_prices = extract_x_y('AAPL')\n",
        "\n",
        "stock_prices.head(10)\n",
        "\n",
        "stock_prices['Open'] = stock_prices['Open'].replace({'\\$':''}, regex=True).astype(float)\n",
        "stock_prices['High'] = stock_prices['High'].replace({'\\$':''}, regex=True).astype(float)\n",
        "stock_prices['Low'] = stock_prices['Low'].replace({'\\$':''}, regex=True).astype(float)\n",
        "stock_prices['Close'] = stock_prices['Close'].replace({'\\$':''}, regex=True).astype(float)\n",
        "stock_prices['Volume'] = stock_prices['Volume'].replace({'\\$':''}, regex=True).astype(float)\n",
        "\n",
        "stock_prices.plot(x=\"Date\", y=\"Close\")"
      ],
      "metadata": {
        "id": "K4ZNkAdikt9Z",
        "colab": {
          "base_uri": "https://localhost:8080/",
          "height": 287
        },
        "outputId": "40b91fe1-dab0-4c42-bbdc-15b5c7c6517e"
      },
      "execution_count": 3,
      "outputs": [
        {
          "output_type": "execute_result",
          "data": {
            "text/plain": [
              "<matplotlib.axes._subplots.AxesSubplot at 0x7fbf36c58810>"
            ]
          },
          "metadata": {},
          "execution_count": 3
        },
        {
          "output_type": "display_data",
          "data": {
            "text/plain": [
              "<Figure size 432x288 with 1 Axes>"
            ],
            "image/png": "[encoded data removed]"
          },
          "metadata": {
            "needs_background": "light"
          }
        }
      ]
    },
    {
      "cell_type": "code",
      "source": [
        "# Dividing the data into 80% trainging data and 20% testing data\n",
        "training_split_ratio = 0.8\n",
        "split_point = int(np.ceil(len(stock_prices) * training_split_ratio))\n",
        "\n",
        "training_data = stock_prices[:split_point]\n",
        "testing_data = stock_prices[split_point:]"
      ],
      "metadata": {
        "id": "1rA3jHfyXgAU"
      },
      "execution_count": 4,
      "outputs": []
    },
    {
      "cell_type": "code",
      "source": [
        "# Seperating the Close values for our model\n",
        "training_set = training_data.iloc[:, 4:5].values\n",
        "true_stock_price = testing_data.iloc[:, 4:5].values"
      ],
      "metadata": {
        "id": "UGh5-3xfZ9iH"
      },
      "execution_count": 5,
      "outputs": []
    },
    {
      "cell_type": "code",
      "source": [
        "# Normalizing the current close values for better prediction\n",
        "scaler = MinMaxScaler(feature_range=(0,1))\n",
        "training_data_normalized = scaler.fit_transform(training_set)\n",
        "training_data_normalized"
      ],
      "metadata": {
        "id": "AMSfEdaZeIpM",
        "colab": {
          "base_uri": "https://localhost:8080/"
        },
        "outputId": "90d3fd7b-88f9-4f06-f50d-ce691dfdc48b"
      },
      "execution_count": 6,
      "outputs": [
        {
          "output_type": "execute_result",
          "data": {
            "text/plain": [
              "array([[2.03044330e-01],\n",
              "       [2.02970150e-01],\n",
              "       [2.03682274e-01],\n",
              "       ...,\n",
              "       [1.63195063e-04],\n",
              "       [6.67616165e-04],\n",
              "       [5.19257017e-04]])"
            ]
          },
          "metadata": {},
          "execution_count": 6
        }
      ]
    },
    {
      "cell_type": "code",
      "source": [
        "# LSTM training requires a window in each training step.\n",
        "# If the window size is 10 then the model will predict the 10th value with the information of previous 9 values\n",
        "# Here x will contain the n-1 previous dependent values and the nth value that has to be predicted\n",
        "# And y will contain the actual value that was being predicted\n",
        "\n",
        "def lstm_data_divide(data, num_of_steps):\n",
        "  x = []\n",
        "  y = []\n",
        "  for i in range(num_of_steps, len(data)):\n",
        "    x.append(data[i - num_of_steps:i, 0])\n",
        "    y.append(data[i, 0])\n",
        "  return np.array(x), np.array(y)"
      ],
      "metadata": {
        "id": "MMtmxlmUAQPi"
      },
      "execution_count": 7,
      "outputs": []
    },
    {
      "cell_type": "code",
      "source": [
        "# Here the number of steps is 60\n",
        "num_of_steps = 60\n",
        "x_arr, y_arr = lstm_data_divide(training_data_normalized, num_of_steps)"
      ],
      "metadata": {
        "id": "WVxcIJvRAS8B"
      },
      "execution_count": 8,
      "outputs": []
    },
    {
      "cell_type": "code",
      "source": [
        "# Building the LSTM Model with different layers\n",
        "tf_model = tf.keras.models.Sequential()\n",
        "tf_model.add(tf.keras.layers.LSTM(units=50, return_sequences=True, input_shape=(x_arr.shape[1], 1)))\n",
        "tf_model.add(tf.keras.layers.Dropout(0.2))\n",
        "tf_model.add(tf.keras.layers.LSTM(units=50, return_sequences=True))\n",
        "tf_model.add(tf.keras.layers.Dropout(0.2))\n",
        "tf_model.add(tf.keras.layers.LSTM(units=50, return_sequences=True))\n",
        "tf_model.add(tf.keras.layers.Dropout(0.2))\n",
        "tf_model.add(tf.keras.layers.LSTM(units=50))\n",
        "tf_model.add(tf.keras.layers.Dropout(0.2))\n",
        "tf_model.add(tf.keras.layers.Dense(units=1))\n",
        "tf_model.summary()"
      ],
      "metadata": {
        "colab": {
          "base_uri": "https://localhost:8080/"
        },
        "id": "1LQdQAHXexUl",
        "outputId": "cef78d27-25a8-4132-a677-3333bf45ed1f"
      },
      "execution_count": 9,
      "outputs": [
        {
          "output_type": "stream",
          "name": "stdout",
          "text": [
            "Model: \"sequential\"\n",
            "_________________________________________________________________\n",
            " Layer (type)                Output Shape              Param #   \n",
            "=================================================================\n",
            " lstm (LSTM)                 (None, 60, 50)            10400     \n",
            "                                                                 \n",
            " dropout (Dropout)           (None, 60, 50)            0         \n",
            "                                                                 \n",
            " lstm_1 (LSTM)               (None, 60, 50)            20200     \n",
            "                                                                 \n",
            " dropout_1 (Dropout)         (None, 60, 50)            0         \n",
            "                                                                 \n",
            " lstm_2 (LSTM)               (None, 60, 50)            20200     \n",
            "                                                                 \n",
            " dropout_2 (Dropout)         (None, 60, 50)            0         \n",
            "                                                                 \n",
            " lstm_3 (LSTM)               (None, 50)                20200     \n",
            "                                                                 \n",
            " dropout_3 (Dropout)         (None, 50)                0         \n",
            "                                                                 \n",
            " dense (Dense)               (None, 1)                 51        \n",
            "                                                                 \n",
            "=================================================================\n",
            "Total params: 71,051\n",
            "Trainable params: 71,051\n",
            "Non-trainable params: 0\n",
            "_________________________________________________________________\n"
          ]
        }
      ]
    },
    {
      "cell_type": "code",
      "source": [
        "# Compile the model with Adam's Optimizer and MeanSquaredError method for loss reduction\n",
        "tf_model.compile(optimizer='adam', loss='MeanSquaredError')"
      ],
      "metadata": {
        "id": "nUxV0gz7gDh_"
      },
      "execution_count": 10,
      "outputs": []
    },
    {
      "cell_type": "code",
      "source": [
        "# Training the model with the pre-processed values\n",
        "model_optimized = tf_model.fit(x_arr, y_arr, epochs=10, batch_size=32)"
      ],
      "metadata": {
        "colab": {
          "base_uri": "https://localhost:8080/"
        },
        "id": "ddyIdQfDfske",
        "outputId": "47ff37aa-ad7e-4fa8-fec2-03adb570f184"
      },
      "execution_count": 11,
      "outputs": [
        {
          "output_type": "stream",
          "name": "stdout",
          "text": [
            "Epoch 1/10\n",
            "142/142 [==============================] - 25s 121ms/step - loss: 0.0088\n",
            "Epoch 2/10\n",
            "142/142 [==============================] - 17s 121ms/step - loss: 0.0037\n",
            "Epoch 3/10\n",
            "142/142 [==============================] - 18s 129ms/step - loss: 0.0030\n",
            "Epoch 4/10\n",
            "142/142 [==============================] - 18s 127ms/step - loss: 0.0027\n",
            "Epoch 5/10\n",
            "142/142 [==============================] - 18s 125ms/step - loss: 0.0024\n",
            "Epoch 6/10\n",
            "142/142 [==============================] - 17s 121ms/step - loss: 0.0022\n",
            "Epoch 7/10\n",
            "142/142 [==============================] - 17s 123ms/step - loss: 0.0021\n",
            "Epoch 8/10\n",
            "142/142 [==============================] - 17s 121ms/step - loss: 0.0019\n",
            "Epoch 9/10\n",
            "142/142 [==============================] - 19s 131ms/step - loss: 0.0018\n",
            "Epoch 10/10\n",
            "142/142 [==============================] - 18s 124ms/step - loss: 0.0017\n"
          ]
        }
      ]
    },
    {
      "cell_type": "code",
      "source": [
        "# Combining the training and testing data to predict the price of from that data\n",
        "complete_data = pd.concat([training_data['Close'], testing_data['Close']], axis=0)\n",
        "\n",
        "inputs = complete_data[len(complete_data) - len(testing_data) - 60:].values\n",
        "inputs = inputs.reshape(-1,1)\n",
        "inputs = scaler.transform(inputs)\n",
        "\n",
        "x_test = []\n",
        "\n",
        "for i in range(60, len(testing_data)):\n",
        "  x_test.append(inputs[i-60:i, 0])\n",
        "\n",
        "x_test = np.array(x_test)\n",
        "x_test = np.reshape(x_test, (x_test.shape[0], x_test.shape[1], 1))"
      ],
      "metadata": {
        "id": "NHfUUyPEmcxH"
      },
      "execution_count": 12,
      "outputs": []
    },
    {
      "cell_type": "code",
      "source": [
        "# Predicting the future values from the testing data using our model \n",
        "prediction = tf_model.predict(x_test)"
      ],
      "metadata": {
        "id": "no7URJoaoXFO"
      },
      "execution_count": 13,
      "outputs": []
    },
    {
      "cell_type": "code",
      "source": [
        "# We need to bring back the original values of the normalized values\n",
        "prediction = scaler.inverse_transform(prediction)"
      ],
      "metadata": {
        "id": "DTtOVXihoeKm"
      },
      "execution_count": 14,
      "outputs": []
    },
    {
      "cell_type": "code",
      "source": [
        "# Plotting the graph of both the actual and the predicted results\n",
        "plt.figure(figsize=(12, 6))\n",
        "\n",
        "plt.plot(true_stock_price, color='black', label='Apple Stock Price')\n",
        "plt.plot(prediction, color='red', label='Predicted Apple Stock Price')\n",
        "\n",
        "plt.xlabel('Time')\n",
        "plt.xlabel('Apple Stock Price')\n",
        "plt.legend()\n",
        "plt.show()"
      ],
      "metadata": {
        "colab": {
          "base_uri": "https://localhost:8080/",
          "height": 388
        },
        "id": "Yud0FdnUo4PW",
        "outputId": "88118ce0-2632-4a10-f299-b63376dd89f9"
      },
      "execution_count": 15,
      "outputs": [
        {
          "output_type": "display_data",
          "data": {
            "text/plain": [
              "<Figure size 864x432 with 1 Axes>"
            ],
            "image/png": "[encoded data removed]"
          },
          "metadata": {
            "needs_background": "light"
          }
        }
      ]
    }
  ]
}